{
  "nbformat": 4,
  "nbformat_minor": 0,
  "metadata": {
    "colab": {
      "provenance": []
    },
    "kernelspec": {
      "name": "python3",
      "display_name": "Python 3"
    },
    "language_info": {
      "name": "python"
    }
  },
  "cells": [
    {
      "cell_type": "markdown",
      "source": [
        "# Python Basics for Astronomy"
      ],
      "metadata": {
        "id": "lc9T04WNouUu"
      }
    },
    {
      "cell_type": "code",
      "source": [
        "# My first code in Python\n",
        "print(\"hello world!\")"
      ],
      "metadata": {
        "colab": {
          "base_uri": "https://localhost:8080/"
        },
        "id": "wfUtm8cjo0kg",
        "outputId": "39bd5e1f-3784-49e5-eb47-f30a4116d2f9"
      },
      "execution_count": 1,
      "outputs": [
        {
          "output_type": "stream",
          "name": "stdout",
          "text": [
            "hello world!\n"
          ]
        }
      ]
    },
    {
      "cell_type": "markdown",
      "source": [
        "### 1. Comments"
      ],
      "metadata": {
        "id": "2t4X9HJhq78w"
      }
    },
    {
      "cell_type": "code",
      "source": [
        "\"\"\"\n",
        "This is my first line of comment\n",
        "This is my second line of comment\n",
        "\"\"\""
      ],
      "metadata": {
        "id": "0frvaCXAq7GF",
        "colab": {
          "base_uri": "https://localhost:8080/",
          "height": 35
        },
        "outputId": "88f9badd-8ddc-4bf0-9564-e3d814a16fca"
      },
      "execution_count": 2,
      "outputs": [
        {
          "output_type": "execute_result",
          "data": {
            "text/plain": [
              "'\\nThis is my first line of comment\\nThis is my second line of comment\\n'"
            ],
            "application/vnd.google.colaboratory.intrinsic+json": {
              "type": "string"
            }
          },
          "metadata": {},
          "execution_count": 2
        }
      ]
    },
    {
      "cell_type": "code",
      "source": [
        "# Selected the text below and pressend ctrl + /\n",
        "# This is my first comment\n",
        "# This is my second comment\n",
        "# dsmnfksmdf\n",
        "# sd'fskfmsdlkf;sdfsf\n",
        "# smslkfms"
      ],
      "metadata": {
        "id": "TFf6sIBJrR2I"
      },
      "execution_count": 4,
      "outputs": []
    },
    {
      "cell_type": "markdown",
      "source": [
        "### 2. Variables and Constants"
      ],
      "metadata": {
        "id": "WpRCTGituLIs"
      }
    },
    {
      "cell_type": "code",
      "source": [
        "x = 4\n",
        "y = 5\n",
        "print(x + x + y + x + y)"
      ],
      "metadata": {
        "colab": {
          "base_uri": "https://localhost:8080/"
        },
        "id": "csOb1KUiuJ1B",
        "outputId": "ae0e265e-a7cf-498d-8af1-f0b359a12a11"
      },
      "execution_count": 5,
      "outputs": [
        {
          "output_type": "stream",
          "name": "stdout",
          "text": [
            "22\n"
          ]
        }
      ]
    },
    {
      "cell_type": "code",
      "source": [
        "y = 1"
      ],
      "metadata": {
        "id": "6-toHLsEvBmZ"
      },
      "execution_count": 6,
      "outputs": []
    },
    {
      "cell_type": "markdown",
      "source": [
        "### 3. Basic Data Types"
      ],
      "metadata": {
        "id": "reu-R80TvwQ_"
      }
    },
    {
      "cell_type": "code",
      "source": [
        "# Create varaibles to store the information about a planet in our Solar System\n",
        "planet_name = 'Venus'\n",
        "planet_age = '4.6 Billion Years'\n",
        "planet_index = 1     # In Python, index starts from 0. Hence, Venus is on Index 1 after Mercury on Index 0"
      ],
      "metadata": {
        "id": "cwlavqV6vxgn"
      },
      "execution_count": 7,
      "outputs": []
    },
    {
      "cell_type": "code",
      "source": [
        "# Displaying the data values for each variables\n",
        "print(planet_name)\n",
        "print(planet_age)\n",
        "print(planet_index)"
      ],
      "metadata": {
        "colab": {
          "base_uri": "https://localhost:8080/"
        },
        "id": "oKtB8r3Gwf1I",
        "outputId": "4a26c526-7adb-4524-e5a4-407487b733f2"
      },
      "execution_count": 8,
      "outputs": [
        {
          "output_type": "stream",
          "name": "stdout",
          "text": [
            "Venus\n",
            "4.6 Billion Years\n",
            "1\n"
          ]
        }
      ]
    },
    {
      "cell_type": "code",
      "source": [
        "# Checking the type of variables by using type() command\n",
        "print(type(planet_name))\n",
        "print(type(planet_age))\n",
        "print(type(planet_index))"
      ],
      "metadata": {
        "colab": {
          "base_uri": "https://localhost:8080/"
        },
        "id": "0DfS0DkAx2c4",
        "outputId": "56d8378a-4a74-41c9-b424-0ca36236570d"
      },
      "execution_count": 9,
      "outputs": [
        {
          "output_type": "stream",
          "name": "stdout",
          "text": [
            "<class 'str'>\n",
            "<class 'str'>\n",
            "<class 'int'>\n"
          ]
        }
      ]
    },
    {
      "cell_type": "code",
      "source": [
        "z = 3.2\n",
        "print(type(z))"
      ],
      "metadata": {
        "colab": {
          "base_uri": "https://localhost:8080/"
        },
        "id": "UDDQK-UiyDB3",
        "outputId": "e17ecd40-a4a1-4bd1-e295-fc6fa2b6d477"
      },
      "execution_count": 10,
      "outputs": [
        {
          "output_type": "stream",
          "name": "stdout",
          "text": [
            "<class 'float'>\n"
          ]
        }
      ]
    },
    {
      "cell_type": "markdown",
      "source": [
        "### 4. f-strings"
      ],
      "metadata": {
        "id": "6xf0pLoGy4GW"
      }
    },
    {
      "cell_type": "code",
      "source": [
        "# Understanding the power of f-strings\n",
        "name_planet = 'Saturn'\n",
        "moons_planet = 150\n",
        "print(f\"Planet {name_planet} has {moons_planet} Moons\")"
      ],
      "metadata": {
        "colab": {
          "base_uri": "https://localhost:8080/"
        },
        "id": "oldv3vNoy52Y",
        "outputId": "19c65151-2deb-45ab-b09a-6adfff1487f8"
      },
      "execution_count": 11,
      "outputs": [
        {
          "output_type": "stream",
          "name": "stdout",
          "text": [
            "Planet Saturn has 150 Moons\n"
          ]
        }
      ]
    },
    {
      "cell_type": "code",
      "source": [
        "# String concatenation\n",
        "str_1 = \"Earth is the only planet with Life.\"\n",
        "str_2 = \"Maybe not! :D\"\n",
        "print(f'{str_1} {str_2}')"
      ],
      "metadata": {
        "colab": {
          "base_uri": "https://localhost:8080/"
        },
        "id": "-CRUNPOEz0cL",
        "outputId": "032d15d7-0379-470f-8701-a84722106a6c"
      },
      "execution_count": 12,
      "outputs": [
        {
          "output_type": "stream",
          "name": "stdout",
          "text": [
            "Earth is the only planet with Life. Maybe not! :D\n"
          ]
        }
      ]
    },
    {
      "cell_type": "markdown",
      "source": [
        "### 5. User Inputs"
      ],
      "metadata": {
        "id": "3StFZzue1OsM"
      }
    },
    {
      "cell_type": "code",
      "source": [
        "# Use input() to take user inputs\n",
        "user_name = input(\"Enter your name:- \")"
      ],
      "metadata": {
        "colab": {
          "base_uri": "https://localhost:8080/"
        },
        "id": "Ah5jX08X1Qg3",
        "outputId": "83e0d775-226d-42d0-8e07-532b7a6e5341"
      },
      "execution_count": 13,
      "outputs": [
        {
          "name": "stdout",
          "output_type": "stream",
          "text": [
            "Enter your name:- Paweł\n"
          ]
        }
      ]
    },
    {
      "cell_type": "code",
      "source": [
        "# Displaying the variable and its type given by the user\n",
        "print(user_name)\n",
        "print(type(user_name))"
      ],
      "metadata": {
        "colab": {
          "base_uri": "https://localhost:8080/"
        },
        "id": "3pUxcmYg1ljF",
        "outputId": "57e504ed-0870-4fc2-badf-2200b79716be"
      },
      "execution_count": 14,
      "outputs": [
        {
          "output_type": "stream",
          "name": "stdout",
          "text": [
            "Paweł\n",
            "<class 'str'>\n"
          ]
        }
      ]
    },
    {
      "cell_type": "code",
      "source": [
        "# Ask user to input their fav number\n",
        "user_fav_number = input('Enter your favourite number:- ')"
      ],
      "metadata": {
        "colab": {
          "base_uri": "https://localhost:8080/"
        },
        "id": "LVtlIU4u1zHU",
        "outputId": "26b7818c-7fba-4c42-9112-dbaad38cd5a9"
      },
      "execution_count": 15,
      "outputs": [
        {
          "name": "stdout",
          "output_type": "stream",
          "text": [
            "Enter your favourite number:- 23\n"
          ]
        }
      ]
    },
    {
      "cell_type": "code",
      "source": [
        "# Diplay the variable and its type given by the user\n",
        "print(user_fav_number)\n",
        "print(type(user_fav_number))"
      ],
      "metadata": {
        "colab": {
          "base_uri": "https://localhost:8080/"
        },
        "id": "a2TKQz8T2C7n",
        "outputId": "0303ebc4-b360-4c4b-c8dc-a460cae8d05b"
      },
      "execution_count": 16,
      "outputs": [
        {
          "output_type": "stream",
          "name": "stdout",
          "text": [
            "23\n",
            "<class 'str'>\n"
          ]
        }
      ]
    },
    {
      "cell_type": "markdown",
      "source": [
        "### 6. Data Type Conversion"
      ],
      "metadata": {
        "id": "Dv6hfZ-K4MtZ"
      }
    },
    {
      "cell_type": "code",
      "source": [
        "# Commands to convert --> str(input), int(input), float(input)\n",
        "\n",
        "# Convert a string data into integer and float\n",
        "str_to_int = int(user_fav_number)\n",
        "print(str_to_int)\n",
        "print(type(str_to_int))\n",
        "\n",
        "str_to_float = float(user_fav_number)\n",
        "print(str_to_float)\n",
        "print(type(str_to_float))"
      ],
      "metadata": {
        "colab": {
          "base_uri": "https://localhost:8080/"
        },
        "id": "VhbUKCKL4QRY",
        "outputId": "13b49f50-6906-4ba6-8e8b-5167aaaeac40"
      },
      "execution_count": 17,
      "outputs": [
        {
          "output_type": "stream",
          "name": "stdout",
          "text": [
            "23\n",
            "<class 'int'>\n",
            "23.0\n",
            "<class 'float'>\n"
          ]
        }
      ]
    },
    {
      "cell_type": "code",
      "source": [
        "# Get user input of two different integers and add them together\n",
        "n1 = int(input('Give any integer number:- '))\n",
        "n2 = int(input('Give one more integer:- '))\n",
        "print(f\"The sum of {n1} and {n2} is {n1+n2}\")"
      ],
      "metadata": {
        "colab": {
          "base_uri": "https://localhost:8080/"
        },
        "id": "yOfmYy41587N",
        "outputId": "ef1940bd-10e6-498e-9a12-2205ac79627f"
      },
      "execution_count": 18,
      "outputs": [
        {
          "output_type": "stream",
          "name": "stdout",
          "text": [
            "Give any integer number:- 3\n",
            "Give one more integer:- 23\n",
            "The sum of 3 and 23 is 26\n"
          ]
        }
      ]
    },
    {
      "cell_type": "markdown",
      "source": [
        "### 7. Control Flow\n",
        "* For Loop and While Loop\n",
        "* Condition Statements"
      ],
      "metadata": {
        "id": "rqED3XGP8VmE"
      }
    },
    {
      "cell_type": "code",
      "source": [
        "# range(start, end, skip) ---> Start is inclusive and end is exclusive\n",
        "range(1, 11)"
      ],
      "metadata": {
        "colab": {
          "base_uri": "https://localhost:8080/"
        },
        "id": "x_Gs_vTt9Jsu",
        "outputId": "09a655ce-732e-4b73-81d7-6e81bba640d1"
      },
      "execution_count": 19,
      "outputs": [
        {
          "output_type": "execute_result",
          "data": {
            "text/plain": [
              "range(1, 11)"
            ]
          },
          "metadata": {},
          "execution_count": 19
        }
      ]
    },
    {
      "cell_type": "code",
      "source": [
        "# For loop\n",
        "for index in range(1, 11, 2):\n",
        "  print(index)"
      ],
      "metadata": {
        "id": "ar_AEqwj8c1Y",
        "colab": {
          "base_uri": "https://localhost:8080/"
        },
        "outputId": "700423b0-7718-46e0-8833-debc4b3176c6"
      },
      "execution_count": 20,
      "outputs": [
        {
          "output_type": "stream",
          "name": "stdout",
          "text": [
            "1\n",
            "3\n",
            "5\n",
            "7\n",
            "9\n"
          ]
        }
      ]
    },
    {
      "cell_type": "code",
      "source": [
        "# convert any string into lower case\n",
        "str_demo = 'Upper Case'\n",
        "print(str_demo)\n",
        "\n",
        "print(str_demo.lower())"
      ],
      "metadata": {
        "colab": {
          "base_uri": "https://localhost:8080/"
        },
        "id": "QZr0b0iGABvM",
        "outputId": "ced97c59-1b62-4a21-d92f-fb3948b5f155"
      },
      "execution_count": 21,
      "outputs": [
        {
          "output_type": "stream",
          "name": "stdout",
          "text": [
            "Upper Case\n",
            "upper case\n"
          ]
        }
      ]
    },
    {
      "cell_type": "code",
      "source": [
        "# While Loop\n",
        "\n",
        "ct = 0\n",
        "print('--- Type \"quit\" to exit! ---')\n",
        "while True:\n",
        "  obj = input(f'Enter your favourite Celestial Object {ct+1}:- ')\n",
        "  ct += 1 # ct = ct + 1\n",
        "  if obj.lower() == 'quit':\n",
        "    break"
      ],
      "metadata": {
        "colab": {
          "base_uri": "https://localhost:8080/"
        },
        "id": "KFg6PF7t-C4K",
        "outputId": "3254a84d-7749-427f-9f65-ec2fcba6dadf"
      },
      "execution_count": 22,
      "outputs": [
        {
          "name": "stdout",
          "output_type": "stream",
          "text": [
            "--- Type \"quit\" to exit! ---\n",
            "Enter your favourite Celestial Object 1:- Earth\n",
            "Enter your favourite Celestial Object 2:- Sun\n",
            "Enter your favourite Celestial Object 3:- Black Hole\n",
            "Enter your favourite Celestial Object 4:- QuiT\n"
          ]
        }
      ]
    },
    {
      "cell_type": "markdown",
      "source": [
        "### 8. Functions"
      ],
      "metadata": {
        "id": "3qGOPO_CCW27"
      }
    },
    {
      "cell_type": "code",
      "source": [
        "# Creating a function to greet viewers of this video without any input arguments\n",
        "def greet():\n",
        "  print('Hey Astrophiles!')"
      ],
      "metadata": {
        "id": "kDCx3ZzrCYD5"
      },
      "execution_count": 23,
      "outputs": []
    },
    {
      "cell_type": "code",
      "source": [
        "# Call that function\n",
        "greet()"
      ],
      "metadata": {
        "colab": {
          "base_uri": "https://localhost:8080/"
        },
        "id": "wxhf5RyYC3PV",
        "outputId": "a61116b3-2fa4-4d2f-bade-a8b0c9afd5d8"
      },
      "execution_count": 24,
      "outputs": [
        {
          "output_type": "stream",
          "name": "stdout",
          "text": [
            "Hey Astrophiles!\n"
          ]
        }
      ]
    },
    {
      "cell_type": "code",
      "source": [
        "# Define a function to greet a person whose name will be given as an input\n",
        "def greet_person(name):\n",
        "  print(f'Hey {name}, I hope you are enjoying this session and learning a lot of things in Python!')"
      ],
      "metadata": {
        "id": "6B9hv3HjDKqI"
      },
      "execution_count": 25,
      "outputs": []
    },
    {
      "cell_type": "code",
      "source": [
        "# Call that function\n",
        "greet_person('Paweł')"
      ],
      "metadata": {
        "colab": {
          "base_uri": "https://localhost:8080/"
        },
        "id": "fTJMCBkbDbKF",
        "outputId": "963c078d-a948-4f80-e4ff-a8c232618cec"
      },
      "execution_count": 26,
      "outputs": [
        {
          "output_type": "stream",
          "name": "stdout",
          "text": [
            "Hey Paweł, I hope you are enjoying this session and learning a lot of things in Python!\n"
          ]
        }
      ]
    },
    {
      "cell_type": "code",
      "source": [
        "# Call this function with different name\n",
        "greet_person('Adam')"
      ],
      "metadata": {
        "colab": {
          "base_uri": "https://localhost:8080/"
        },
        "id": "HNT-irJxDjND",
        "outputId": "477224cf-ead4-40b4-b088-30278bb08e62"
      },
      "execution_count": 27,
      "outputs": [
        {
          "output_type": "stream",
          "name": "stdout",
          "text": [
            "Hey Adam, I hope you are enjoying this session and learning a lot of things in Python!\n"
          ]
        }
      ]
    },
    {
      "cell_type": "code",
      "source": [
        "# Call this function to greet everyone here watching the video\n",
        "greet_person('everyone')"
      ],
      "metadata": {
        "colab": {
          "base_uri": "https://localhost:8080/"
        },
        "id": "xC8XxjY-Dwoy",
        "outputId": "e3616d37-a814-4fb8-e684-dc8cc2b12a5a"
      },
      "execution_count": 28,
      "outputs": [
        {
          "output_type": "stream",
          "name": "stdout",
          "text": [
            "Hey everyone, I hope you are enjoying this session and learning a lot of things in Python!\n"
          ]
        }
      ]
    },
    {
      "cell_type": "code",
      "source": [
        "# Postional Arguments\n",
        "def greeting(name, msg):\n",
        "  print(f'Hey {name}, {msg}')"
      ],
      "metadata": {
        "id": "_6pAAJVXEA4j"
      },
      "execution_count": 29,
      "outputs": []
    },
    {
      "cell_type": "code",
      "source": [
        "# Call this function by placing the input arguments in the same order while building it\n",
        "greeting('Paweł', 'are you an Astrophile?')"
      ],
      "metadata": {
        "colab": {
          "base_uri": "https://localhost:8080/"
        },
        "id": "pXFSHRY4Ebuv",
        "outputId": "7a0f8f35-31b5-4624-e2c3-f9727a79d8fa"
      },
      "execution_count": 30,
      "outputs": [
        {
          "output_type": "stream",
          "name": "stdout",
          "text": [
            "Hey Paweł, are you an Astrophile?\n"
          ]
        }
      ]
    },
    {
      "cell_type": "code",
      "source": [
        "# Call the function by shifting the postions of the arguments\n",
        "greeting('Are you an Astrophile?', 'Paweł')"
      ],
      "metadata": {
        "colab": {
          "base_uri": "https://localhost:8080/"
        },
        "id": "vh0jwn4tErpX",
        "outputId": "ab8dc546-db5a-4565-b7ee-326b5d526efc"
      },
      "execution_count": 31,
      "outputs": [
        {
          "output_type": "stream",
          "name": "stdout",
          "text": [
            "Hey Are you an Astrophile?, Paweł\n"
          ]
        }
      ]
    },
    {
      "cell_type": "code",
      "source": [
        "# Call this function with keyword arguments\n",
        "greeting(msg = 'Are you an Astrophile?', name = 'Paweł')"
      ],
      "metadata": {
        "colab": {
          "base_uri": "https://localhost:8080/"
        },
        "id": "Uifm789-E9pt",
        "outputId": "84354600-7054-4cc3-aa56-88fefef55f8b"
      },
      "execution_count": 32,
      "outputs": [
        {
          "output_type": "stream",
          "name": "stdout",
          "text": [
            "Hey Paweł, Are you an Astrophile?\n"
          ]
        }
      ]
    },
    {
      "cell_type": "code",
      "source": [
        "# Default arguments\n",
        "def greeting_with_default_args(name, msg='Welcome to this program on Astronomy Visualization!'):\n",
        "  print(f'Hey {name}, {msg}')"
      ],
      "metadata": {
        "id": "javVZFEtFL-s"
      },
      "execution_count": 33,
      "outputs": []
    },
    {
      "cell_type": "code",
      "source": [
        "# Call this function without passing msg arg\n",
        "greeting_with_default_args('Paweł', msg = 'Whats up?')"
      ],
      "metadata": {
        "colab": {
          "base_uri": "https://localhost:8080/"
        },
        "id": "5nslux-8Fe_I",
        "outputId": "e848327a-4179-4c79-fb51-bf6609a9bf12"
      },
      "execution_count": 34,
      "outputs": [
        {
          "output_type": "stream",
          "name": "stdout",
          "text": [
            "Hey Paweł, Whats up?\n"
          ]
        }
      ]
    },
    {
      "cell_type": "code",
      "source": [
        "# Create a function that will either add, subtract, multiply or divide two input numbers\n",
        "def basic_calc(n1, n2, operation):\n",
        "  \"\"\"\n",
        "  Creates a basic calculator that takes n1 and n2 in the same order and performs either of:-\n",
        "  - add\n",
        "  - subtract\n",
        "  - multiply\n",
        "  - divide\n",
        "\n",
        "  Parameters -\n",
        "  -----------\n",
        "  n1 - first number\n",
        "  n2 - second number\n",
        "  operations - any of the operations mentioned above for our basic calc\n",
        "\n",
        "  Return -\n",
        "  ------\n",
        "  The output of the operation done on n1 and n2\n",
        "  \"\"\"\n",
        "\n",
        "  if operation.lower() == 'add':\n",
        "    return n1+n2\n",
        "  elif operation.lower() == 'subtract':\n",
        "    return n1-n2\n",
        "  elif operation.lower() == 'multiply':\n",
        "    return n1*n2\n",
        "  elif operation.lower() == 'divide':\n",
        "    return n1/n2\n",
        "  else:\n",
        "    print(f'Opertation input can either take:- add, multiply, subtract or divide. You gave:- {operation}. Try again')"
      ],
      "metadata": {
        "id": "R7j1GithGB3G"
      },
      "execution_count": 35,
      "outputs": []
    },
    {
      "cell_type": "code",
      "source": [
        "addition = basic_calc(2, 3, 'add')\n",
        "print(addition)"
      ],
      "metadata": {
        "colab": {
          "base_uri": "https://localhost:8080/"
        },
        "id": "rNkj42BsGfAH",
        "outputId": "9c62a681-74f0-4a82-d4ee-194c184cdec5"
      },
      "execution_count": 36,
      "outputs": [
        {
          "output_type": "stream",
          "name": "stdout",
          "text": [
            "5\n"
          ]
        }
      ]
    },
    {
      "cell_type": "code",
      "source": [
        "multiply = basic_calc(3, 3, 'multiply')\n",
        "print(multiply)"
      ],
      "metadata": {
        "colab": {
          "base_uri": "https://localhost:8080/"
        },
        "id": "ATifDCznHEYa",
        "outputId": "399ddfe8-0b68-448a-d8f5-3e366e245f45"
      },
      "execution_count": 37,
      "outputs": [
        {
          "output_type": "stream",
          "name": "stdout",
          "text": [
            "9\n"
          ]
        }
      ]
    },
    {
      "cell_type": "code",
      "source": [
        "basic_calc(3, 3, 'daskdjakdjak')"
      ],
      "metadata": {
        "colab": {
          "base_uri": "https://localhost:8080/"
        },
        "id": "658yMro8HMXD",
        "outputId": "9ecd342f-1c23-4cd3-d8f1-1a88f95c6435"
      },
      "execution_count": 38,
      "outputs": [
        {
          "output_type": "stream",
          "name": "stdout",
          "text": [
            "Opertation input can either take:- add, multiply, subtract or divide. You gave:- daskdjakdjak. Try again\n"
          ]
        }
      ]
    }
  ]
}